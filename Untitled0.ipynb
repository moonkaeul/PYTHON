{
  "nbformat": 4,
  "nbformat_minor": 0,
  "metadata": {
    "colab": {
      "provenance": [],
      "collapsed_sections": [
        "nfucz9t60kiF"
      ],
      "toc_visible": true,
      "history_visible": true
    },
    "kernelspec": {
      "name": "python3",
      "display_name": "Python 3"
    },
    "language_info": {
      "name": "python"
    }
  },
  "cells": [
    {
      "cell_type": "markdown",
      "source": [
        "# Python\n",
        "* 커뮤니티\n",
        "* 난이도\n",
        "* 빠른 목표 달성\n",
        "* 웹 개발, GUI(계산기, 키오스크), 게임 개발, 데이터 분석, 인공지능 등 다양한 분야에 활용\n"
      ],
      "metadata": {
        "id": "I2mOVuBAXTFM"
      }
    },
    {
      "cell_type": "markdown",
      "source": [
        "## 변수"
      ],
      "metadata": {
        "id": "7mH51SGXapau"
      }
    },
    {
      "cell_type": "code",
      "execution_count": 2,
      "metadata": {
        "colab": {
          "base_uri": "https://localhost:8080/"
        },
        "id": "lxauFTNVWnFj",
        "outputId": "875be107-c266-43a2-b824-935f8a83ba94"
      },
      "outputs": [
        {
          "output_type": "stream",
          "name": "stdout",
          "text": [
            "30\n"
          ]
        }
      ],
      "source": [
        "x = 10\n",
        "y = 20\n",
        "print(x+y)"
      ]
    },
    {
      "cell_type": "code",
      "source": [
        "x + y"
      ],
      "metadata": {
        "colab": {
          "base_uri": "https://localhost:8080/"
        },
        "id": "yLA2pC6lbIEB",
        "outputId": "c5af7edd-d0d6-4b8c-ee83-8b8665aedb19"
      },
      "execution_count": 3,
      "outputs": [
        {
          "output_type": "execute_result",
          "data": {
            "text/plain": [
              "30"
            ]
          },
          "metadata": {},
          "execution_count": 3
        }
      ]
    },
    {
      "cell_type": "code",
      "source": [
        "x, type(x), dir(x) # 변수를 만나면 type(정체, 이름)과 dir(속성)을 해보세요!"
      ],
      "metadata": {
        "colab": {
          "base_uri": "https://localhost:8080/"
        },
        "id": "zf2RY-8gbwk5",
        "outputId": "d2e77bde-1a5e-4ddf-fafa-ab6436d31a10"
      },
      "execution_count": 5,
      "outputs": [
        {
          "output_type": "execute_result",
          "data": {
            "text/plain": [
              "(10,\n",
              " int,\n",
              " ['__abs__',\n",
              "  '__add__',\n",
              "  '__and__',\n",
              "  '__bool__',\n",
              "  '__ceil__',\n",
              "  '__class__',\n",
              "  '__delattr__',\n",
              "  '__dir__',\n",
              "  '__divmod__',\n",
              "  '__doc__',\n",
              "  '__eq__',\n",
              "  '__float__',\n",
              "  '__floor__',\n",
              "  '__floordiv__',\n",
              "  '__format__',\n",
              "  '__ge__',\n",
              "  '__getattribute__',\n",
              "  '__getnewargs__',\n",
              "  '__gt__',\n",
              "  '__hash__',\n",
              "  '__index__',\n",
              "  '__init__',\n",
              "  '__init_subclass__',\n",
              "  '__int__',\n",
              "  '__invert__',\n",
              "  '__le__',\n",
              "  '__lshift__',\n",
              "  '__lt__',\n",
              "  '__mod__',\n",
              "  '__mul__',\n",
              "  '__ne__',\n",
              "  '__neg__',\n",
              "  '__new__',\n",
              "  '__or__',\n",
              "  '__pos__',\n",
              "  '__pow__',\n",
              "  '__radd__',\n",
              "  '__rand__',\n",
              "  '__rdivmod__',\n",
              "  '__reduce__',\n",
              "  '__reduce_ex__',\n",
              "  '__repr__',\n",
              "  '__rfloordiv__',\n",
              "  '__rlshift__',\n",
              "  '__rmod__',\n",
              "  '__rmul__',\n",
              "  '__ror__',\n",
              "  '__round__',\n",
              "  '__rpow__',\n",
              "  '__rrshift__',\n",
              "  '__rshift__',\n",
              "  '__rsub__',\n",
              "  '__rtruediv__',\n",
              "  '__rxor__',\n",
              "  '__setattr__',\n",
              "  '__sizeof__',\n",
              "  '__str__',\n",
              "  '__sub__',\n",
              "  '__subclasshook__',\n",
              "  '__truediv__',\n",
              "  '__trunc__',\n",
              "  '__xor__',\n",
              "  'as_integer_ratio',\n",
              "  'bit_count',\n",
              "  'bit_length',\n",
              "  'conjugate',\n",
              "  'denominator',\n",
              "  'from_bytes',\n",
              "  'imag',\n",
              "  'numerator',\n",
              "  'real',\n",
              "  'to_bytes'])"
            ]
          },
          "metadata": {},
          "execution_count": 5
        }
      ]
    },
    {
      "cell_type": "code",
      "source": [
        "a = 10 # int\n",
        "b = 10.1 # flout\n",
        "c = '10' # str\n",
        "d = '''10''' # 작은따옴표 3개는 주석, 문자열 값으로도 넣을 수 있습니다, str\n",
        "e = \"\"\"10\"\"\" # str\n",
        "f = True # 주의! true가 아닙니다!, bool\n",
        "g = f'{a + a}입니다!' # str\n",
        "h = r'10' #str\n",
        "i = [10, 20, 30] # list\n",
        "j = (10, 20, 30) # tuple\n",
        "k = {'one' : '하나', 'two' : '둘'} #dict\n",
        "ㅣ = {1, 1, 1, 2, 2, 2, 3, 3} # set"
      ],
      "metadata": {
        "id": "jz8qQg6eb-sQ"
      },
      "execution_count": null,
      "outputs": []
    },
    {
      "cell_type": "markdown",
      "source": [
        "## 사칙연산"
      ],
      "metadata": {
        "id": "0C9SQrNQj2Li"
      }
    },
    {
      "cell_type": "code",
      "source": [
        "a = 10\n",
        "b = 3\n",
        "\n",
        "print(a + b)\n",
        "print(a - b)\n",
        "print(a / b)\n",
        "print(a // b)\n",
        "print(a * b)\n",
        "print(a ** b)\n",
        "print(a % b)"
      ],
      "metadata": {
        "colab": {
          "base_uri": "https://localhost:8080/"
        },
        "id": "V0nwY3RMlBTZ",
        "outputId": "05ac15b0-9695-4ef8-f8d4-be85dfa6e97c"
      },
      "execution_count": 10,
      "outputs": [
        {
          "output_type": "stream",
          "name": "stdout",
          "text": [
            "13\n",
            "7\n",
            "3.3333333333333335\n",
            "3\n",
            "30\n",
            "1000\n",
            "1\n"
          ]
        }
      ]
    },
    {
      "cell_type": "code",
      "source": [
        "-10//3 #내림이 된다."
      ],
      "metadata": {
        "colab": {
          "base_uri": "https://localhost:8080/"
        },
        "id": "jlOztj7HjyOj",
        "outputId": "fb75046a-7dd2-4977-ac8e-25f313ca6f41"
      },
      "execution_count": 13,
      "outputs": [
        {
          "output_type": "execute_result",
          "data": {
            "text/plain": [
              "-4"
            ]
          },
          "metadata": {},
          "execution_count": 13
        }
      ]
    },
    {
      "cell_type": "code",
      "source": [
        "0.1 + 0.2 #부동소수점 문제, 부동소수점 오차 해결"
      ],
      "metadata": {
        "colab": {
          "base_uri": "https://localhost:8080/"
        },
        "id": "gDoUzPpSnbJA",
        "outputId": "e9835bbb-47a0-4707-f7e1-1f8573551e53"
      },
      "execution_count": 14,
      "outputs": [
        {
          "output_type": "execute_result",
          "data": {
            "text/plain": [
              "0.30000000000000004"
            ]
          },
          "metadata": {},
          "execution_count": 14
        }
      ]
    },
    {
      "cell_type": "markdown",
      "source": [
        "## 논리연산"
      ],
      "metadata": {
        "id": "8IZkd_pYnRoo"
      }
    },
    {
      "cell_type": "code",
      "source": [
        "# True는 1로\n",
        "# False는 0으로\n",
        "# and는 곱\n",
        "# or는 합\n",
        "# not는 반대\n",
        "\n",
        "True and False #둘 중 하나가 False이면 False\n"
      ],
      "metadata": {
        "id": "-hTdP603nZW7"
      },
      "execution_count": 15,
      "outputs": []
    },
    {
      "cell_type": "code",
      "source": [
        "# and 와 or가 어떻게 쓰이는지만 확인해주세요.\n",
        "# and는 앞과 뒤가 동시 만족되는 숫자만 값으로 나온다.\n",
        "# 앞과 뒤 둘 중 하나라도 false가 나오면 값이 나오지 않는다.\n",
        "# i는 0~99의 갑이 들어간다.\n",
        "for i in range(100):\n",
        "  if i % 3 == 0 and i % 5 == 0:\n",
        "      print(i)"
      ],
      "metadata": {
        "colab": {
          "base_uri": "https://localhost:8080/"
        },
        "id": "VxJ4HYU0nQt5",
        "outputId": "7084cfdf-48b0-4090-c07d-d2628a4d7315"
      },
      "execution_count": 20,
      "outputs": [
        {
          "output_type": "stream",
          "name": "stdout",
          "text": [
            "0\n",
            "15\n",
            "30\n",
            "45\n",
            "60\n",
            "75\n",
            "90\n"
          ]
        }
      ]
    },
    {
      "cell_type": "code",
      "source": [
        "# and 와 or가 어떻게 쓰이는지만 확인해주세요.\n",
        "# i는 0~99의 갑이 들어간다.\n",
        "#or(+)는 앞과 뒤 둘 중 하나만 true여도 된다.\n",
        "for i in range(100):\n",
        "  if i % 3 == 0 or i % 5 == 0:\n",
        "      print(i)"
      ],
      "metadata": {
        "colab": {
          "base_uri": "https://localhost:8080/"
        },
        "id": "k-Yh3lXwrLRD",
        "outputId": "262da338-0b90-406b-b6fc-afafc7e41b5a"
      },
      "execution_count": 22,
      "outputs": [
        {
          "output_type": "stream",
          "name": "stdout",
          "text": [
            "0\n",
            "3\n",
            "5\n",
            "6\n",
            "9\n",
            "10\n",
            "12\n",
            "15\n",
            "18\n",
            "20\n",
            "21\n",
            "24\n",
            "25\n",
            "27\n",
            "30\n",
            "33\n",
            "35\n",
            "36\n",
            "39\n",
            "40\n",
            "42\n",
            "45\n",
            "48\n",
            "50\n",
            "51\n",
            "54\n",
            "55\n",
            "57\n",
            "60\n",
            "63\n",
            "65\n",
            "66\n",
            "69\n",
            "70\n",
            "72\n",
            "75\n",
            "78\n",
            "80\n",
            "81\n",
            "84\n",
            "85\n",
            "87\n",
            "90\n",
            "93\n",
            "95\n",
            "96\n",
            "99\n"
          ]
        }
      ]
    },
    {
      "cell_type": "code",
      "source": [
        "not False"
      ],
      "metadata": {
        "colab": {
          "base_uri": "https://localhost:8080/"
        },
        "id": "J_Cc6r_YsGSB",
        "outputId": "157c6647-d120-424d-9ce2-dc63a126e462"
      },
      "execution_count": 25,
      "outputs": [
        {
          "output_type": "execute_result",
          "data": {
            "text/plain": [
              "True"
            ]
          },
          "metadata": {},
          "execution_count": 25
        }
      ]
    },
    {
      "cell_type": "code",
      "source": [
        "not True"
      ],
      "metadata": {
        "colab": {
          "base_uri": "https://localhost:8080/"
        },
        "id": "2Vjr3tHHsPdA",
        "outputId": "ba9d94e9-03a6-43ac-c101-b772e6c91fb5"
      },
      "execution_count": 26,
      "outputs": [
        {
          "output_type": "execute_result",
          "data": {
            "text/plain": [
              "False"
            ]
          },
          "metadata": {},
          "execution_count": 26
        }
      ]
    },
    {
      "cell_type": "markdown",
      "source": [
        "## 비교연산"
      ],
      "metadata": {
        "id": "_iN0ZQVFsUNW"
      }
    },
    {
      "cell_type": "code",
      "source": [
        "# 조건문\n",
        "a = 10\n",
        "b = 3\n",
        "\n",
        "print(a == b)\n",
        "print(a != b)\n",
        "print(a > b)\n",
        "print(a >= b)\n",
        "print(a < b)\n",
        "print(a <= b)"
      ],
      "metadata": {
        "colab": {
          "base_uri": "https://localhost:8080/"
        },
        "id": "HNgpVbs7sX9E",
        "outputId": "f0b3a411-98d4-492a-c2fe-ff53a2a9e99f"
      },
      "execution_count": 29,
      "outputs": [
        {
          "output_type": "stream",
          "name": "stdout",
          "text": [
            "False\n",
            "True\n",
            "True\n",
            "True\n",
            "False\n",
            "False\n"
          ]
        }
      ]
    },
    {
      "cell_type": "markdown",
      "source": [
        "## 문자열 자료형 (인덱싱, 슬라이싱)\n",
        "* 문자열 자료형은 순서가 있는 시퀀스 자료형입니다.\n",
        "* 이런 시퀀스 자료형은 인덱싱, 슬라이싱 등이 됩니다."
      ],
      "metadata": {
        "id": "nfucz9t60kiF"
      }
    },
    {
      "cell_type": "code",
      "source": [
        "s = 'paullab CEO leehojun'"
      ],
      "metadata": {
        "id": "c9uoRS7psSGH"
      },
      "execution_count": 30,
      "outputs": []
    },
    {
      "cell_type": "code",
      "source": [
        "s[0], s[1] #인덱스_[]안의 숫자를 이르는 말/인덱싱_[] 안의 숫자의 값을 불러내는 것"
      ],
      "metadata": {
        "colab": {
          "base_uri": "https://localhost:8080/"
        },
        "id": "lbuazpQU1Xee",
        "outputId": "567649c8-c2c2-48e0-d51d-96d7c3dfb270"
      },
      "execution_count": 32,
      "outputs": [
        {
          "output_type": "execute_result",
          "data": {
            "text/plain": [
              "('p', 'a')"
            ]
          },
          "metadata": {},
          "execution_count": 32
        }
      ]
    },
    {
      "cell_type": "code",
      "source": [
        "s[18]"
      ],
      "metadata": {
        "colab": {
          "base_uri": "https://localhost:8080/",
          "height": 35
        },
        "id": "r1ipfUPK1A5_",
        "outputId": "b0d1e3f1-b721-4c5b-fbc2-94eab0dba636"
      },
      "execution_count": 34,
      "outputs": [
        {
          "output_type": "execute_result",
          "data": {
            "text/plain": [
              "'u'"
            ],
            "application/vnd.google.colaboratory.intrinsic+json": {
              "type": "string"
            }
          },
          "metadata": {},
          "execution_count": 34
        }
      ]
    },
    {
      "cell_type": "code",
      "source": [
        "s[-1], s[-2]"
      ],
      "metadata": {
        "colab": {
          "base_uri": "https://localhost:8080/"
        },
        "id": "eYal_gsm1sKd",
        "outputId": "92e094e1-eced-45b7-8bdf-d586edaf4105"
      },
      "execution_count": 37,
      "outputs": [
        {
          "output_type": "execute_result",
          "data": {
            "text/plain": [
              "('n', 'u')"
            ]
          },
          "metadata": {},
          "execution_count": 37
        }
      ]
    },
    {
      "cell_type": "code",
      "source": [
        "s[-10], s[-11]"
      ],
      "metadata": {
        "colab": {
          "base_uri": "https://localhost:8080/"
        },
        "id": "3LTwzdYn13xN",
        "outputId": "14b59dd6-1367-4177-eaf0-7fdcfc6c9cbe"
      },
      "execution_count": 39,
      "outputs": [
        {
          "output_type": "execute_result",
          "data": {
            "text/plain": [
              "('O', 'E')"
            ]
          },
          "metadata": {},
          "execution_count": 39
        }
      ]
    },
    {
      "cell_type": "code",
      "source": [
        "s[8] + s[9] + s[10]"
      ],
      "metadata": {
        "colab": {
          "base_uri": "https://localhost:8080/",
          "height": 35
        },
        "id": "qJRBBgRR2CIt",
        "outputId": "c2bf3c73-aefe-4e22-d58a-d52035e3de6f"
      },
      "execution_count": 41,
      "outputs": [
        {
          "output_type": "execute_result",
          "data": {
            "text/plain": [
              "'CEO'"
            ],
            "application/vnd.google.colaboratory.intrinsic+json": {
              "type": "string"
            }
          },
          "metadata": {},
          "execution_count": 41
        }
      ]
    },
    {
      "cell_type": "code",
      "source": [
        "s[8:11] # 슬라이싱(slicing)"
      ],
      "metadata": {
        "colab": {
          "base_uri": "https://localhost:8080/",
          "height": 35
        },
        "id": "SIgEIhe_2L3w",
        "outputId": "207f6fd2-f729-488f-f90f-302043faebdb"
      },
      "execution_count": 43,
      "outputs": [
        {
          "output_type": "execute_result",
          "data": {
            "text/plain": [
              "'CEO'"
            ],
            "application/vnd.google.colaboratory.intrinsic+json": {
              "type": "string"
            }
          },
          "metadata": {},
          "execution_count": 43
        }
      ]
    },
    {
      "cell_type": "markdown",
      "source": [],
      "metadata": {
        "id": "XXOl_Vc24EMB"
      }
    },
    {
      "cell_type": "code",
      "source": [
        "# 자료형(start : stop : step) # step은 생략 가능합니다.\n",
        "s[8:11]\n",
        "s[:11]\n",
        "s[8:]\n",
        "s[::-1] # 순서가 있는 모든 자료형의 쓰이는 것 /거꾸로"
      ],
      "metadata": {
        "colab": {
          "base_uri": "https://localhost:8080/",
          "height": 35
        },
        "id": "eAeWv-V02oW6",
        "outputId": "6d61d089-f098-4cc8-abe6-7d935f8e3cd9"
      },
      "execution_count": 45,
      "outputs": [
        {
          "output_type": "execute_result",
          "data": {
            "text/plain": [
              "'nujoheel OEC balluap'"
            ],
            "application/vnd.google.colaboratory.intrinsic+json": {
              "type": "string"
            }
          },
          "metadata": {},
          "execution_count": 45
        }
      ]
    },
    {
      "cell_type": "markdown",
      "source": [
        "## 문자열의 메소드"
      ],
      "metadata": {
        "id": "vpQA2GGW4GRl"
      }
    },
    {
      "cell_type": "code",
      "source": [
        "print(s, type(s), dir(s))"
      ],
      "metadata": {
        "colab": {
          "base_uri": "https://localhost:8080/"
        },
        "id": "__C5WSh53Nn2",
        "outputId": "183c9618-c353-45cd-986b-20eecf27db13"
      },
      "execution_count": 46,
      "outputs": [
        {
          "output_type": "stream",
          "name": "stdout",
          "text": [
            "paullab CEO leehojun <class 'str'> ['__add__', '__class__', '__contains__', '__delattr__', '__dir__', '__doc__', '__eq__', '__format__', '__ge__', '__getattribute__', '__getitem__', '__getnewargs__', '__gt__', '__hash__', '__init__', '__init_subclass__', '__iter__', '__le__', '__len__', '__lt__', '__mod__', '__mul__', '__ne__', '__new__', '__reduce__', '__reduce_ex__', '__repr__', '__rmod__', '__rmul__', '__setattr__', '__sizeof__', '__str__', '__subclasshook__', 'capitalize', 'casefold', 'center', 'count', 'encode', 'endswith', 'expandtabs', 'find', 'format', 'format_map', 'index', 'isalnum', 'isalpha', 'isascii', 'isdecimal', 'isdigit', 'isidentifier', 'islower', 'isnumeric', 'isprintable', 'isspace', 'istitle', 'isupper', 'join', 'ljust', 'lower', 'lstrip', 'maketrans', 'partition', 'removeprefix', 'removesuffix', 'replace', 'rfind', 'rindex', 'rjust', 'rpartition', 'rsplit', 'rstrip', 'split', 'splitlines', 'startswith', 'strip', 'swapcase', 'title', 'translate', 'upper', 'zfill']\n"
          ]
        }
      ]
    },
    {
      "cell_type": "code",
      "source": [
        "# 'count','find', 'format', 'index','isdigit',\n",
        "# 'join', 'lower', 'replace', 'split', 'upper'\n",
        "\n",
        "s. upper() # 대문자\n",
        "s. lower() # 소문자\n"
      ],
      "metadata": {
        "colab": {
          "base_uri": "https://localhost:8080/",
          "height": 35
        },
        "id": "GTf04lQH417Y",
        "outputId": "d7b73153-346c-44b5-df72-def69bff84e8"
      },
      "execution_count": 49,
      "outputs": [
        {
          "output_type": "execute_result",
          "data": {
            "text/plain": [
              "'paullab ceo leehojun'"
            ],
            "application/vnd.google.colaboratory.intrinsic+json": {
              "type": "string"
            }
          },
          "metadata": {},
          "execution_count": 49
        }
      ]
    },
    {
      "cell_type": "code",
      "source": [
        "s. count ('l') # l의 갯수는? 3개\n",
        "s. find ('CEO') # CEO의 단어의 인덱스는? 없는 문자열을 찾으면 -1\n",
        "s. index ('CEO') # CEO 단어의 인덱스는? 없는 문자열 찾으면 error\n",
        "'hello{} world{}' .format(10, 20)\n",
        "f'hello {10} world {20}'\n",
        "'1' .isdigit()\n",
        "'hello' .isdigit()\n",
        "'-' .join(['010', '5044', '2903'])\n",
        "s. replace('CEO', 'CTO')\n",
        "'010!5044!2903!'.split('!')\n",
        "s. split(' ')"
      ],
      "metadata": {
        "colab": {
          "base_uri": "https://localhost:8080/"
        },
        "id": "eJkGBCR45-qF",
        "outputId": "7dcc7953-e39f-4ef7-d290-1471749d62f9"
      },
      "execution_count": 71,
      "outputs": [
        {
          "output_type": "execute_result",
          "data": {
            "text/plain": [
              "['paullab', 'CEO', 'leehojun']"
            ]
          },
          "metadata": {},
          "execution_count": 71
        }
      ]
    },
    {
      "cell_type": "code",
      "source": [
        "if s.find('CEO') :\n",
        "    print('찾았다!')\n"
      ],
      "metadata": {
        "colab": {
          "base_uri": "https://localhost:8080/"
        },
        "id": "ehZj6TNq6xmJ",
        "outputId": "a726bf75-62fc-4b24-8a8a-bdbac86613a3"
      },
      "execution_count": 68,
      "outputs": [
        {
          "output_type": "stream",
          "name": "stdout",
          "text": [
            "찾았다!\n"
          ]
        }
      ]
    }
  ]
}